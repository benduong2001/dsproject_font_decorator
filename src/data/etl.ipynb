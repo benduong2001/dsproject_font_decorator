{
 "cells": [
  {
   "cell_type": "code",
   "execution_count": 1,
   "metadata": {},
   "outputs": [],
   "source": [
    "import os\n",
    "\n",
    "#print(os.listdir(\"../../data/raw\"))\n",
    "#assert False\n",
    "from bs4 import BeautifulSoup  \n",
    "import requests\n",
    "import zipfile\n",
    "import io\n",
    "\n",
    "import pandas as pd\n",
    "import numpy as np\n",
    "import tqdm"
   ]
  },
  {
   "cell_type": "code",
   "execution_count": 2,
   "metadata": {},
   "outputs": [],
   "source": [
    "def get_download_href(soup):\n",
    "    temp_finder = soup\n",
    "    download_href = temp_finder.find_all(\"a\", text=\" fonts.zip\")[0][\"href\"]\n",
    "    return download_href\n",
    "\n",
    "def get_download_href_by_url(url):\n",
    "    # just for uci's situation\n",
    "    page = requests.get(url)\n",
    "    soup = BeautifulSoup(page.text, 'html.parser')\n",
    "    download_href = get_download_href(soup)\n",
    "    return url + \"/\" + download_href\n",
    "\n",
    "def create_zip_data_folder(path_folder, folder_name_zip_data):\n",
    "    path_folder_zip_data = os.path.join(path_folder, folder_name_zip_data)\n",
    "    os.makedirs(path_folder_zip_data)\n",
    "    return path_folder_zip_data\n",
    "\n",
    "def extract_download_href_to_zip_data_folder(download_href, path_zipped_folder_zipcode_shapefile):\n",
    "    r = requests.get(download_href)\n",
    "    z = zipfile.ZipFile(io.BytesIO(r.content))\n",
    "    z.extractall(path_zipped_folder_zipcode_shapefile)\n",
    "\n",
    "def delete_zip_data_folder(path_folder_zip_data):\n",
    "    for file_name in os.listdir(path_folder_zip_data):\n",
    "        # construct full file path\n",
    "        file = os.path.join(path_folder_zip_data, file_name)\n",
    "        if os.path.isfile(file):\n",
    "            os.remove(file)\n",
    "    os.rmdir(path_folder_zip_data)\n",
    "\n",
    "def create_fonts_csv(path_folder_zip_data, path_file_fonts):\n",
    "    list_font_file_names = os.listdir(path_folder_zip_data)\n",
    "\n",
    "    num_font_csvs = len(list_font_file_names)\n",
    "\n",
    "    df_init = pd.read_csv(os.path.join(path_folder_zip_data, list_font_file_names[0]))\n",
    "\n",
    "    pd_concat_df_list = [df_init]\n",
    "    corrupt_fonts = []\n",
    "\n",
    "    for i in tqdm.tqdm(range(1, num_font_csvs)):\n",
    "        temp_file_name_font = list_font_file_names[i]\n",
    "        temp_path_folder_font = os.path.join(path_folder_zip_data, temp_file_name_font)\n",
    "        temp_font_df_orig = pd.read_csv(temp_path_folder_font)\n",
    "        try:\n",
    "            assert (df_init.shape[1] == temp_font_df_orig.shape[1])\n",
    "            assert (list(df_init.columns) == list(temp_font_df_orig.columns))\n",
    "            pd_concat_df_list.append(temp_font_df_orig)\n",
    "        except:\n",
    "            print(temp_file_name_font)\n",
    "            corrupt_font = temp_file_name_font\n",
    "            corrupt_fonts.append(corrupt_font)\n",
    "            pass\n",
    "\n",
    "    pd_concat_df = pd.concat(pd_concat_df_list, axis=0)\n",
    "    fonts_df = pd_concat_df\n",
    "    fonts_df.to_csv(path_file_fonts, index=False)"
   ]
  },
  {
   "cell_type": "code",
   "execution_count": null,
   "metadata": {},
   "outputs": [],
   "source": [
    "import json \n",
    "      \n",
    "# Data to be written \n",
    "dictionary ={ \n",
    "  \"id\": \"04\", \n",
    "  \"name\": \"sunil\", \n",
    "  \"department\": \"HR\"\n",
    "} \n",
    "      \n",
    "# Serializing json  \n",
    "json_object = json.dumps(dictionary, indent = 4) \n",
    "print(json_object)"
   ]
  },
  {
   "cell_type": "code",
   "execution_count": 3,
   "metadata": {},
   "outputs": [
    {
     "name": "stderr",
     "output_type": "stream",
     "text": [
      "100%|████████████████████████████████████████████████████████████████████████████████| 152/152 [01:39<00:00,  1.52it/s]\n"
     ]
    }
   ],
   "source": [
    "\n",
    "url = \"https://archive.ics.uci.edu/ml/machine-learning-databases/00417/\"\n",
    "folder_name_zip_data = \"fonts\"\n",
    "path_folder = \"../../data/raw\"\n",
    "file_name_fonts = \"fonts.csv\"\n",
    "\n",
    "download_href = get_download_href_by_url(url)\n",
    "path_folder_zip_data = create_zip_data_folder(path_folder, folder_name_zip_data)\n",
    "extract_download_href_to_zip_data_folder(download_href, path_folder_zip_data)\n",
    "path_file_fonts = os.path.join(path_folder, file_name_fonts)\n",
    "create_fonts_csv(path_folder_zip_data, path_file_fonts)\n",
    "delete_zip_data_folder(path_folder_zip_data)\n"
   ]
  }
 ],
 "metadata": {
  "kernelspec": {
   "display_name": "Python 3",
   "language": "python",
   "name": "python3"
  },
  "language_info": {
   "codemirror_mode": {
    "name": "ipython",
    "version": 3
   },
   "file_extension": ".py",
   "mimetype": "text/x-python",
   "name": "python",
   "nbconvert_exporter": "python",
   "pygments_lexer": "ipython3",
   "version": "3.7.4"
  }
 },
 "nbformat": 4,
 "nbformat_minor": 2
}
