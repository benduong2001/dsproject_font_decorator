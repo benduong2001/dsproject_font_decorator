{
 "cells": [
  {
   "cell_type": "code",
   "execution_count": null,
   "metadata": {},
   "outputs": [],
   "source": [
    "import cv2\n",
    "import urllib.request\n",
    "from tensorflow import keras\n",
    "import tensorflow as tf\n",
    "from keras.optimizers import adam_v2"
   ]
  },
  {
   "cell_type": "code",
   "execution_count": null,
   "metadata": {},
   "outputs": [],
   "source": [
    "def middle_fcn_layer_function(filters, kernel_size, strides, dropout_rate,x):\n",
    "    x = tf.keras.layers.Conv2D(filters=filters, \n",
    "                               kernel_size=kernel_size, \n",
    "                               strides=strides,\n",
    "                               padding=\"same\")(x) \n",
    "    x = tf.keras.layers.Dropout(dropout_rate)(x)\n",
    "    x = tf.keras.layers.BatchNormalization()(x)\n",
    "    x = tf.keras.layers.Activation('relu')(x)\n",
    "    return x\n",
    "\n",
    "\n",
    "IS_SPARSE = True\n",
    "LOSS_FUNCTION = 'categorical_crossentropy';\n",
    "\n",
    "if IS_SPARSE:\n",
    "    LOSS_FUNCTION = 'sparse_categorical_crossentropy'; \n",
    "    #y_train = np.argmax(np.array(y_train),axis=1)\n",
    "    #y_test = np.argmax(np.array(y_test),axis=1)\n",
    "\n",
    "len_classes=N_CLASSES\n",
    "dropout_rate=0.2\n",
    "\n",
    "input_layer = tf.keras.layers.Input(shape=(None, None, 1)) # maybe change shape to just None, None if grayscale\n",
    "## Middle FCN Layer\n",
    "\n",
    "x = middle_fcn_layer_function(filters=5, kernel_size=3, strides=1, dropout_rate=dropout_rate, x=input_layer)\n",
    "x = middle_fcn_layer_function(filters=10, kernel_size=3, strides=1, dropout_rate=dropout_rate, x=x)\n",
    "x = middle_fcn_layer_function(filters=20, kernel_size=3, strides=2, dropout_rate=dropout_rate, x=x)\n",
    "\n",
    "x = middle_fcn_layer_function(filters=10, kernel_size=1, strides=1, dropout_rate=dropout_rate, x=x)\n",
    "## penult layer\n",
    "\n",
    "## Last FCN Layer\n",
    "x = tf.keras.layers.Conv2D(filters=len_classes, kernel_size=1, strides=1)(x)\n",
    "x = tf.keras.layers.Dropout(dropout_rate)(x)\n",
    "x = tf.keras.layers.BatchNormalization()(x)\n",
    "x = tf.keras.layers.GlobalMaxPooling2D()(x)\n",
    "predictions = tf.keras.layers.Activation('softmax')(x)\n",
    "model = tf.keras.Model(inputs=input_layer, outputs=predictions)\n",
    "## This is functional API\n",
    "## https://keras.io/guides/functional_api/\n",
    "model.compile(optimizer=tf.optimizers.Adam(),loss=LOSS_FUNCTION,metrics=['accuracy'])"
   ]
  }
 ],
 "metadata": {
  "kernelspec": {
   "display_name": "Python 3",
   "language": "python",
   "name": "python3"
  },
  "language_info": {
   "codemirror_mode": {
    "name": "ipython",
    "version": 3
   },
   "file_extension": ".py",
   "mimetype": "text/x-python",
   "name": "python",
   "nbconvert_exporter": "python",
   "pygments_lexer": "ipython3",
   "version": "3.7.4"
  }
 },
 "nbformat": 4,
 "nbformat_minor": 2
}
